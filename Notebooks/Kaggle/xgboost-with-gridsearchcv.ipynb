{
 "cells": [
  {
   "cell_type": "markdown",
   "execution_count": null,
   "metadata": {
    "papermill": {
     "duration": 0.005629,
     "end_time": "2020-08-25T17:51:24.388923",
     "exception": false,
     "start_time": "2020-08-25T17:51:24.383294",
     "status": "completed"
    },
    "tags": []
   },
   "source": [
    "\n",
    "\n",
    "![Ames Housing dataset image](https://i.imgur.com/lTJVG4e.png)\n",
    "\n"
   ]
  },
  {
   "cell_type": "code",
   "execution_count": 1,
   "metadata": {
    "execution": {
     "iopub.execute_input": "2020-08-25T17:51:24.415523Z",
     "iopub.status.busy": "2020-08-25T17:51:24.414598Z",
     "iopub.status.idle": "2020-08-25T17:51:26.093803Z",
     "shell.execute_reply": "2020-08-25T17:51:26.092414Z"
    },
    "papermill": {
     "duration": 1.699228,
     "end_time": "2020-08-25T17:51:26.093985",
     "exception": false,
     "start_time": "2020-08-25T17:51:24.394757",
     "status": "completed"
    },
    "tags": []
   },
   "outputs": [],
   "source": [
    "import pandas as pd\n",
    "from sklearn.model_selection import train_test_split, GridSearchCV\n",
    "from sklearn.impute import KNNImputer\n",
    "# Read the data\n",
    "X = pd.read_csv('../input/train.csv', index_col='Id')\n",
    "X_test_full = pd.read_csv('../input/test.csv', index_col='Id')\n",
    "\n",
    "# Remove rows with missing target, separate target from predictors\n",
    "X.dropna(axis=0, subset=['SalePrice'], inplace=True)\n",
    "y = X.SalePrice              \n",
    "X.drop(['SalePrice'], axis=1, inplace=True)\n",
    "\n",
    "# Break off validation set from training data\n",
    "X_train_full, X_valid_full, y_train, y_valid = train_test_split(X, y, train_size=0.8, test_size=0.2,\n",
    "                                                                random_state=0)\n",
    "\n",
    "# \"Cardinality\" means the number of unique values in a column\n",
    "# Select categorical columns with relatively low cardinality (convenient but arbitrary)\n",
    "low_cardinality_cols = [cname for cname in X_train_full.columns if X_train_full[cname].nunique() < 10 and \n",
    "                        X_train_full[cname].dtype == \"object\"]\n",
    "\n",
    "# Select numeric columns\n",
    "numerical_cols = [cname for cname in X_train_full.columns if X_train_full[cname].dtype in ['int64', 'float64']]\n",
    "\n",
    "# Select categorical columns\n",
    "categorical_cols = [cname for cname in X_train_full.columns if\n",
    "                    X_train_full[cname].nunique() < 10 and \n",
    "                    X_train_full[cname].dtype == \"object\"]\n",
    "\n",
    "# Keep selected columns only\n",
    "my_cols = low_cardinality_cols + numerical_cols\n",
    "X_train = X_train_full[my_cols].copy()\n",
    "X_valid = X_valid_full[my_cols].copy()\n",
    "X_test = X_test_full[my_cols].copy()\n",
    "\n"
   ]
  },
  {
   "cell_type": "markdown",
   "execution_count": null,
   "metadata": {
    "papermill": {
     "duration": 0.004356,
     "end_time": "2020-08-25T17:51:26.103070",
     "exception": false,
     "start_time": "2020-08-25T17:51:26.098714",
     "status": "completed"
    },
    "tags": []
   },
   "source": [
    "# One-hot encode the data \n",
    "We'll be pipelining all the preprocessing steps\n"
   ]
  },
  {
   "cell_type": "code",
   "execution_count": 2,
   "metadata": {
    "execution": {
     "iopub.execute_input": "2020-08-25T17:51:26.122248Z",
     "iopub.status.busy": "2020-08-25T17:51:26.121391Z",
     "iopub.status.idle": "2020-08-25T17:51:26.200581Z",
     "shell.execute_reply": "2020-08-25T17:51:26.199718Z"
    },
    "papermill": {
     "duration": 0.093292,
     "end_time": "2020-08-25T17:51:26.200719",
     "exception": false,
     "start_time": "2020-08-25T17:51:26.107427",
     "status": "completed"
    },
    "tags": []
   },
   "outputs": [],
   "source": [
    "from sklearn.compose import ColumnTransformer\n",
    "from sklearn.pipeline import Pipeline\n",
    "from sklearn.impute import SimpleImputer\n",
    "from sklearn.preprocessing import OneHotEncoder\n",
    "from sklearn.ensemble import RandomForestRegressor\n",
    "from sklearn.metrics import mean_absolute_error\n",
    "\n",
    "# Preprocessing for numerical data\n",
    "numerical_transformer = SimpleImputer(strategy='constant')\n",
    "\n",
    "# Preprocessing for categorical data\n",
    "categorical_transformer = Pipeline(steps=[\n",
    "    ('imputer', SimpleImputer(strategy='most_frequent')),\n",
    "    ('onehot', OneHotEncoder(handle_unknown='ignore'))\n",
    "])\n",
    "\n",
    "# Bundle preprocessing for numerical and categorical data\n",
    "preprocessor = ColumnTransformer(\n",
    "    transformers=[\n",
    "        ('num', numerical_transformer, numerical_cols),\n",
    "        ('cat', categorical_transformer, categorical_cols)\n",
    "    ])\n"
   ]
  },
  {
   "cell_type": "markdown",
   "execution_count": null,
   "metadata": {
    "papermill": {
     "duration": 0.004237,
     "end_time": "2020-08-25T17:51:26.209526",
     "exception": false,
     "start_time": "2020-08-25T17:51:26.205289",
     "status": "completed"
    },
    "tags": []
   },
   "source": [
    "# Creating our Model and fitting it\n",
    "We'll be using Extreme Gradient Boosting along with GridSearchCV"
   ]
  },
  {
   "cell_type": "code",
   "execution_count": 3,
   "metadata": {
    "execution": {
     "iopub.execute_input": "2020-08-25T17:51:26.229891Z",
     "iopub.status.busy": "2020-08-25T17:51:26.229013Z",
     "iopub.status.idle": "2020-08-25T17:56:07.439644Z",
     "shell.execute_reply": "2020-08-25T17:56:07.440887Z"
    },
    "papermill": {
     "duration": 281.227205,
     "end_time": "2020-08-25T17:56:07.441115",
     "exception": false,
     "start_time": "2020-08-25T17:51:26.213910",
     "status": "completed"
    },
    "tags": []
   },
   "outputs": [
    {
     "name": "stdout",
     "output_type": "stream",
     "text": [
      "Fitting 5 folds for each of 30 candidates, totalling 150 fits\n",
      "[CV] learning_rate=0.3, n_estimators=50 ..............................\n"
     ]
    },
    {
     "name": "stderr",
     "output_type": "stream",
     "text": [
      "[Parallel(n_jobs=1)]: Using backend SequentialBackend with 1 concurrent workers.\n"
     ]
    },
    {
     "name": "stdout",
     "output_type": "stream",
     "text": [
      "[CV] .. learning_rate=0.3, n_estimators=50, score=0.903, total=   0.4s\n",
      "[CV] learning_rate=0.3, n_estimators=50 ..............................\n"
     ]
    },
    {
     "name": "stderr",
     "output_type": "stream",
     "text": [
      "[Parallel(n_jobs=1)]: Done   1 out of   1 | elapsed:    0.4s remaining:    0.0s\n"
     ]
    },
    {
     "name": "stdout",
     "output_type": "stream",
     "text": [
      "[CV] .. learning_rate=0.3, n_estimators=50, score=0.748, total=   0.2s\n",
      "[CV] learning_rate=0.3, n_estimators=50 ..............................\n"
     ]
    },
    {
     "name": "stderr",
     "output_type": "stream",
     "text": [
      "[Parallel(n_jobs=1)]: Done   2 out of   2 | elapsed:    0.7s remaining:    0.0s\n"
     ]
    },
    {
     "name": "stdout",
     "output_type": "stream",
     "text": [
      "[CV] .. learning_rate=0.3, n_estimators=50, score=0.857, total=   0.3s\n",
      "[CV] learning_rate=0.3, n_estimators=50 ..............................\n"
     ]
    },
    {
     "name": "stderr",
     "output_type": "stream",
     "text": [
      "[Parallel(n_jobs=1)]: Done   3 out of   3 | elapsed:    0.9s remaining:    0.0s\n"
     ]
    },
    {
     "name": "stdout",
     "output_type": "stream",
     "text": [
      "[CV] .. learning_rate=0.3, n_estimators=50, score=0.859, total=   0.2s\n",
      "[CV] learning_rate=0.3, n_estimators=50 ..............................\n"
     ]
    },
    {
     "name": "stderr",
     "output_type": "stream",
     "text": [
      "[Parallel(n_jobs=1)]: Done   4 out of   4 | elapsed:    1.2s remaining:    0.0s\n"
     ]
    },
    {
     "name": "stdout",
     "output_type": "stream",
     "text": [
      "[CV] .. learning_rate=0.3, n_estimators=50, score=0.860, total=   0.2s\n",
      "[CV] learning_rate=0.3, n_estimators=100 .............................\n",
      "[CV] . learning_rate=0.3, n_estimators=100, score=0.902, total=   0.5s\n",
      "[CV] learning_rate=0.3, n_estimators=100 .............................\n",
      "[CV] . learning_rate=0.3, n_estimators=100, score=0.747, total=   0.5s\n",
      "[CV] learning_rate=0.3, n_estimators=100 .............................\n",
      "[CV] . learning_rate=0.3, n_estimators=100, score=0.855, total=   0.5s\n",
      "[CV] learning_rate=0.3, n_estimators=100 .............................\n",
      "[CV] . learning_rate=0.3, n_estimators=100, score=0.860, total=   0.5s\n",
      "[CV] learning_rate=0.3, n_estimators=100 .............................\n",
      "[CV] . learning_rate=0.3, n_estimators=100, score=0.859, total=   0.5s\n",
      "[CV] learning_rate=0.3, n_estimators=200 .............................\n",
      "[CV] . learning_rate=0.3, n_estimators=200, score=0.902, total=   0.9s\n",
      "[CV] learning_rate=0.3, n_estimators=200 .............................\n",
      "[CV] . learning_rate=0.3, n_estimators=200, score=0.747, total=   0.9s\n",
      "[CV] learning_rate=0.3, n_estimators=200 .............................\n",
      "[CV] . learning_rate=0.3, n_estimators=200, score=0.855, total=   0.9s\n",
      "[CV] learning_rate=0.3, n_estimators=200 .............................\n",
      "[CV] . learning_rate=0.3, n_estimators=200, score=0.860, total=   0.9s\n",
      "[CV] learning_rate=0.3, n_estimators=200 .............................\n",
      "[CV] . learning_rate=0.3, n_estimators=200, score=0.859, total=   0.9s\n",
      "[CV] learning_rate=0.3, n_estimators=500 .............................\n",
      "[CV] . learning_rate=0.3, n_estimators=500, score=0.902, total=   2.2s\n",
      "[CV] learning_rate=0.3, n_estimators=500 .............................\n",
      "[CV] . learning_rate=0.3, n_estimators=500, score=0.747, total=   2.4s\n",
      "[CV] learning_rate=0.3, n_estimators=500 .............................\n",
      "[CV] . learning_rate=0.3, n_estimators=500, score=0.855, total=   2.3s\n",
      "[CV] learning_rate=0.3, n_estimators=500 .............................\n",
      "[CV] . learning_rate=0.3, n_estimators=500, score=0.860, total=   2.3s\n",
      "[CV] learning_rate=0.3, n_estimators=500 .............................\n",
      "[CV] . learning_rate=0.3, n_estimators=500, score=0.859, total=   2.2s\n",
      "[CV] learning_rate=0.3, n_estimators=1000 ............................\n",
      "[CV]  learning_rate=0.3, n_estimators=1000, score=0.902, total=   4.6s\n",
      "[CV] learning_rate=0.3, n_estimators=1000 ............................\n",
      "[CV]  learning_rate=0.3, n_estimators=1000, score=0.747, total=   4.5s\n",
      "[CV] learning_rate=0.3, n_estimators=1000 ............................\n",
      "[CV]  learning_rate=0.3, n_estimators=1000, score=0.855, total=   4.9s\n",
      "[CV] learning_rate=0.3, n_estimators=1000 ............................\n",
      "[CV]  learning_rate=0.3, n_estimators=1000, score=0.860, total=   4.4s\n",
      "[CV] learning_rate=0.3, n_estimators=1000 ............................\n",
      "[CV]  learning_rate=0.3, n_estimators=1000, score=0.859, total=   4.4s\n",
      "[CV] learning_rate=0.1, n_estimators=50 ..............................\n",
      "[CV] .. learning_rate=0.1, n_estimators=50, score=0.907, total=   0.2s\n",
      "[CV] learning_rate=0.1, n_estimators=50 ..............................\n",
      "[CV] .. learning_rate=0.1, n_estimators=50, score=0.764, total=   0.2s\n",
      "[CV] learning_rate=0.1, n_estimators=50 ..............................\n",
      "[CV] .. learning_rate=0.1, n_estimators=50, score=0.896, total=   0.2s\n",
      "[CV] learning_rate=0.1, n_estimators=50 ..............................\n",
      "[CV] .. learning_rate=0.1, n_estimators=50, score=0.866, total=   0.2s\n",
      "[CV] learning_rate=0.1, n_estimators=50 ..............................\n",
      "[CV] .. learning_rate=0.1, n_estimators=50, score=0.912, total=   0.2s\n",
      "[CV] learning_rate=0.1, n_estimators=100 .............................\n",
      "[CV] . learning_rate=0.1, n_estimators=100, score=0.908, total=   0.6s\n",
      "[CV] learning_rate=0.1, n_estimators=100 .............................\n",
      "[CV] . learning_rate=0.1, n_estimators=100, score=0.757, total=   0.5s\n",
      "[CV] learning_rate=0.1, n_estimators=100 .............................\n",
      "[CV] . learning_rate=0.1, n_estimators=100, score=0.904, total=   0.9s\n",
      "[CV] learning_rate=0.1, n_estimators=100 .............................\n",
      "[CV] . learning_rate=0.1, n_estimators=100, score=0.874, total=   0.5s\n",
      "[CV] learning_rate=0.1, n_estimators=100 .............................\n",
      "[CV] . learning_rate=0.1, n_estimators=100, score=0.918, total=   0.5s\n",
      "[CV] learning_rate=0.1, n_estimators=200 .............................\n",
      "[CV] . learning_rate=0.1, n_estimators=200, score=0.908, total=   0.9s\n",
      "[CV] learning_rate=0.1, n_estimators=200 .............................\n",
      "[CV] . learning_rate=0.1, n_estimators=200, score=0.756, total=   1.1s\n",
      "[CV] learning_rate=0.1, n_estimators=200 .............................\n",
      "[CV] . learning_rate=0.1, n_estimators=200, score=0.905, total=   1.2s\n",
      "[CV] learning_rate=0.1, n_estimators=200 .............................\n",
      "[CV] . learning_rate=0.1, n_estimators=200, score=0.875, total=   1.0s\n",
      "[CV] learning_rate=0.1, n_estimators=200 .............................\n",
      "[CV] . learning_rate=0.1, n_estimators=200, score=0.919, total=   0.9s\n",
      "[CV] learning_rate=0.1, n_estimators=500 .............................\n",
      "[CV] . learning_rate=0.1, n_estimators=500, score=0.907, total=   2.3s\n",
      "[CV] learning_rate=0.1, n_estimators=500 .............................\n",
      "[CV] . learning_rate=0.1, n_estimators=500, score=0.756, total=   2.5s\n",
      "[CV] learning_rate=0.1, n_estimators=500 .............................\n",
      "[CV] . learning_rate=0.1, n_estimators=500, score=0.906, total=   2.2s\n",
      "[CV] learning_rate=0.1, n_estimators=500 .............................\n",
      "[CV] . learning_rate=0.1, n_estimators=500, score=0.875, total=   2.3s\n",
      "[CV] learning_rate=0.1, n_estimators=500 .............................\n",
      "[CV] . learning_rate=0.1, n_estimators=500, score=0.919, total=   2.5s\n",
      "[CV] learning_rate=0.1, n_estimators=1000 ............................\n",
      "[CV]  learning_rate=0.1, n_estimators=1000, score=0.907, total=   4.6s\n",
      "[CV] learning_rate=0.1, n_estimators=1000 ............................\n",
      "[CV]  learning_rate=0.1, n_estimators=1000, score=0.756, total=   4.5s\n",
      "[CV] learning_rate=0.1, n_estimators=1000 ............................\n",
      "[CV]  learning_rate=0.1, n_estimators=1000, score=0.906, total=   4.5s\n",
      "[CV] learning_rate=0.1, n_estimators=1000 ............................\n",
      "[CV]  learning_rate=0.1, n_estimators=1000, score=0.876, total=   4.6s\n",
      "[CV] learning_rate=0.1, n_estimators=1000 ............................\n",
      "[CV]  learning_rate=0.1, n_estimators=1000, score=0.919, total=   4.4s\n",
      "[CV] learning_rate=0.033, n_estimators=50 ............................\n",
      "[CV]  learning_rate=0.033, n_estimators=50, score=0.652, total=   0.2s\n",
      "[CV] learning_rate=0.033, n_estimators=50 ............................\n",
      "[CV]  learning_rate=0.033, n_estimators=50, score=0.603, total=   0.3s\n",
      "[CV] learning_rate=0.033, n_estimators=50 ............................\n",
      "[CV]  learning_rate=0.033, n_estimators=50, score=0.582, total=   0.2s\n",
      "[CV] learning_rate=0.033, n_estimators=50 ............................\n",
      "[CV]  learning_rate=0.033, n_estimators=50, score=0.590, total=   0.2s\n",
      "[CV] learning_rate=0.033, n_estimators=50 ............................\n",
      "[CV]  learning_rate=0.033, n_estimators=50, score=0.585, total=   0.3s\n",
      "[CV] learning_rate=0.033, n_estimators=100 ...........................\n",
      "[CV]  learning_rate=0.033, n_estimators=100, score=0.901, total=   0.5s\n",
      "[CV] learning_rate=0.033, n_estimators=100 ...........................\n",
      "[CV]  learning_rate=0.033, n_estimators=100, score=0.771, total=   0.6s\n",
      "[CV] learning_rate=0.033, n_estimators=100 ...........................\n",
      "[CV]  learning_rate=0.033, n_estimators=100, score=0.875, total=   0.5s\n",
      "[CV] learning_rate=0.033, n_estimators=100 ...........................\n",
      "[CV]  learning_rate=0.033, n_estimators=100, score=0.841, total=   0.5s\n",
      "[CV] learning_rate=0.033, n_estimators=100 ...........................\n",
      "[CV]  learning_rate=0.033, n_estimators=100, score=0.895, total=   0.5s\n",
      "[CV] learning_rate=0.033, n_estimators=200 ...........................\n",
      "[CV]  learning_rate=0.033, n_estimators=200, score=0.915, total=   0.9s\n",
      "[CV] learning_rate=0.033, n_estimators=200 ...........................\n",
      "[CV]  learning_rate=0.033, n_estimators=200, score=0.764, total=   0.9s\n",
      "[CV] learning_rate=0.033, n_estimators=200 ...........................\n",
      "[CV]  learning_rate=0.033, n_estimators=200, score=0.901, total=   0.9s\n",
      "[CV] learning_rate=0.033, n_estimators=200 ...........................\n",
      "[CV]  learning_rate=0.033, n_estimators=200, score=0.869, total=   1.2s\n",
      "[CV] learning_rate=0.033, n_estimators=200 ...........................\n",
      "[CV]  learning_rate=0.033, n_estimators=200, score=0.914, total=   0.9s\n",
      "[CV] learning_rate=0.033, n_estimators=500 ...........................\n",
      "[CV]  learning_rate=0.033, n_estimators=500, score=0.914, total=   2.2s\n",
      "[CV] learning_rate=0.033, n_estimators=500 ...........................\n",
      "[CV]  learning_rate=0.033, n_estimators=500, score=0.763, total=   2.4s\n",
      "[CV] learning_rate=0.033, n_estimators=500 ...........................\n",
      "[CV]  learning_rate=0.033, n_estimators=500, score=0.903, total=   2.3s\n",
      "[CV] learning_rate=0.033, n_estimators=500 ...........................\n",
      "[CV]  learning_rate=0.033, n_estimators=500, score=0.873, total=   2.3s\n",
      "[CV] learning_rate=0.033, n_estimators=500 ...........................\n",
      "[CV]  learning_rate=0.033, n_estimators=500, score=0.916, total=   3.0s\n",
      "[CV] learning_rate=0.033, n_estimators=1000 ..........................\n",
      "[CV]  learning_rate=0.033, n_estimators=1000, score=0.914, total=   5.2s\n",
      "[CV] learning_rate=0.033, n_estimators=1000 ..........................\n",
      "[CV]  learning_rate=0.033, n_estimators=1000, score=0.762, total=   4.6s\n",
      "[CV] learning_rate=0.033, n_estimators=1000 ..........................\n",
      "[CV]  learning_rate=0.033, n_estimators=1000, score=0.903, total=   4.5s\n",
      "[CV] learning_rate=0.033, n_estimators=1000 ..........................\n",
      "[CV]  learning_rate=0.033, n_estimators=1000, score=0.874, total=   4.9s\n",
      "[CV] learning_rate=0.033, n_estimators=1000 ..........................\n",
      "[CV]  learning_rate=0.033, n_estimators=1000, score=0.917, total=   4.4s\n",
      "[CV] learning_rate=0.011, n_estimators=50 ............................\n",
      "[CV]  learning_rate=0.011, n_estimators=50, score=-1.258, total=   0.3s\n",
      "[CV] learning_rate=0.011, n_estimators=50 ............................\n",
      "[CV]  learning_rate=0.011, n_estimators=50, score=-1.199, total=   0.2s\n",
      "[CV] learning_rate=0.011, n_estimators=50 ............................\n",
      "[CV]  learning_rate=0.011, n_estimators=50, score=-1.317, total=   0.3s\n",
      "[CV] learning_rate=0.011, n_estimators=50 ............................\n",
      "[CV]  learning_rate=0.011, n_estimators=50, score=-1.095, total=   0.2s\n",
      "[CV] learning_rate=0.011, n_estimators=50 ............................\n",
      "[CV]  learning_rate=0.011, n_estimators=50, score=-1.711, total=   0.2s\n",
      "[CV] learning_rate=0.011, n_estimators=100 ...........................\n",
      "[CV]  learning_rate=0.011, n_estimators=100, score=0.149, total=   0.5s\n",
      "[CV] learning_rate=0.011, n_estimators=100 ...........................\n",
      "[CV]  learning_rate=0.011, n_estimators=100, score=0.142, total=   0.6s\n",
      "[CV] learning_rate=0.011, n_estimators=100 ...........................\n",
      "[CV]  learning_rate=0.011, n_estimators=100, score=0.066, total=   0.5s\n",
      "[CV] learning_rate=0.011, n_estimators=100 ...........................\n",
      "[CV]  learning_rate=0.011, n_estimators=100, score=0.139, total=   0.5s\n",
      "[CV] learning_rate=0.011, n_estimators=100 ...........................\n",
      "[CV]  learning_rate=0.011, n_estimators=100, score=-0.016, total=   0.5s\n",
      "[CV] learning_rate=0.011, n_estimators=200 ...........................\n",
      "[CV]  learning_rate=0.011, n_estimators=200, score=0.815, total=   0.9s\n",
      "[CV] learning_rate=0.011, n_estimators=200 ...........................\n",
      "[CV]  learning_rate=0.011, n_estimators=200, score=0.737, total=   0.9s\n",
      "[CV] learning_rate=0.011, n_estimators=200 ...........................\n",
      "[CV]  learning_rate=0.011, n_estimators=200, score=0.764, total=   0.9s\n",
      "[CV] learning_rate=0.011, n_estimators=200 ...........................\n",
      "[CV]  learning_rate=0.011, n_estimators=200, score=0.747, total=   0.9s\n",
      "[CV] learning_rate=0.011, n_estimators=200 ...........................\n",
      "[CV]  learning_rate=0.011, n_estimators=200, score=0.783, total=   0.9s\n",
      "[CV] learning_rate=0.011, n_estimators=500 ...........................\n",
      "[CV]  learning_rate=0.011, n_estimators=500, score=0.910, total=   2.2s\n",
      "[CV] learning_rate=0.011, n_estimators=500 ...........................\n",
      "[CV]  learning_rate=0.011, n_estimators=500, score=0.764, total=   2.3s\n",
      "[CV] learning_rate=0.011, n_estimators=500 ...........................\n",
      "[CV]  learning_rate=0.011, n_estimators=500, score=0.898, total=   2.3s\n",
      "[CV] learning_rate=0.011, n_estimators=500 ...........................\n",
      "[CV]  learning_rate=0.011, n_estimators=500, score=0.869, total=   2.3s\n",
      "[CV] learning_rate=0.011, n_estimators=500 ...........................\n",
      "[CV]  learning_rate=0.011, n_estimators=500, score=0.909, total=   2.2s\n",
      "[CV] learning_rate=0.011, n_estimators=1000 ..........................\n",
      "[CV]  learning_rate=0.011, n_estimators=1000, score=0.910, total=   4.6s\n",
      "[CV] learning_rate=0.011, n_estimators=1000 ..........................\n",
      "[CV]  learning_rate=0.011, n_estimators=1000, score=0.762, total=   4.7s\n",
      "[CV] learning_rate=0.011, n_estimators=1000 ..........................\n",
      "[CV]  learning_rate=0.011, n_estimators=1000, score=0.903, total=   4.4s\n",
      "[CV] learning_rate=0.011, n_estimators=1000 ..........................\n",
      "[CV]  learning_rate=0.011, n_estimators=1000, score=0.875, total=   5.2s\n",
      "[CV] learning_rate=0.011, n_estimators=1000 ..........................\n",
      "[CV]  learning_rate=0.011, n_estimators=1000, score=0.912, total=   4.9s\n",
      "[CV] learning_rate=0.003, n_estimators=50 ............................\n",
      "[CV]  learning_rate=0.003, n_estimators=50, score=-3.820, total=   0.4s\n",
      "[CV] learning_rate=0.003, n_estimators=50 ............................\n",
      "[CV]  learning_rate=0.003, n_estimators=50, score=-3.658, total=   0.3s\n",
      "[CV] learning_rate=0.003, n_estimators=50 ............................\n",
      "[CV]  learning_rate=0.003, n_estimators=50, score=-3.688, total=   0.2s\n",
      "[CV] learning_rate=0.003, n_estimators=50 ............................\n",
      "[CV]  learning_rate=0.003, n_estimators=50, score=-3.305, total=   0.2s\n",
      "[CV] learning_rate=0.003, n_estimators=50 ............................\n",
      "[CV]  learning_rate=0.003, n_estimators=50, score=-4.788, total=   0.2s\n",
      "[CV] learning_rate=0.003, n_estimators=100 ...........................\n",
      "[CV]  learning_rate=0.003, n_estimators=100, score=-2.621, total=   0.5s\n",
      "[CV] learning_rate=0.003, n_estimators=100 ...........................\n",
      "[CV]  learning_rate=0.003, n_estimators=100, score=-2.514, total=   0.6s\n",
      "[CV] learning_rate=0.003, n_estimators=100 ...........................\n",
      "[CV]  learning_rate=0.003, n_estimators=100, score=-2.586, total=   0.5s\n",
      "[CV] learning_rate=0.003, n_estimators=100 ...........................\n",
      "[CV]  learning_rate=0.003, n_estimators=100, score=-2.267, total=   0.5s\n",
      "[CV] learning_rate=0.003, n_estimators=100 ...........................\n",
      "[CV]  learning_rate=0.003, n_estimators=100, score=-3.357, total=   0.5s\n",
      "[CV] learning_rate=0.003, n_estimators=200 ...........................\n",
      "[CV]  learning_rate=0.003, n_estimators=200, score=-1.067, total=   0.9s\n",
      "[CV] learning_rate=0.003, n_estimators=200 ...........................\n",
      "[CV]  learning_rate=0.003, n_estimators=200, score=-1.016, total=   0.9s\n",
      "[CV] learning_rate=0.003, n_estimators=200 ...........................\n",
      "[CV]  learning_rate=0.003, n_estimators=200, score=-1.135, total=   0.9s\n",
      "[CV] learning_rate=0.003, n_estimators=200 ...........................\n",
      "[CV]  learning_rate=0.003, n_estimators=200, score=-0.932, total=   0.9s\n",
      "[CV] learning_rate=0.003, n_estimators=200 ...........................\n",
      "[CV]  learning_rate=0.003, n_estimators=200, score=-1.480, total=   0.9s\n",
      "[CV] learning_rate=0.003, n_estimators=500 ...........................\n",
      "[CV]  learning_rate=0.003, n_estimators=500, score=0.551, total=   2.2s\n",
      "[CV] learning_rate=0.003, n_estimators=500 ...........................\n",
      "[CV]  learning_rate=0.003, n_estimators=500, score=0.515, total=   2.3s\n",
      "[CV] learning_rate=0.003, n_estimators=500 ...........................\n",
      "[CV]  learning_rate=0.003, n_estimators=500, score=0.474, total=   2.7s\n",
      "[CV] learning_rate=0.003, n_estimators=500 ...........................\n",
      "[CV]  learning_rate=0.003, n_estimators=500, score=0.496, total=   2.3s\n",
      "[CV] learning_rate=0.003, n_estimators=500 ...........................\n",
      "[CV]  learning_rate=0.003, n_estimators=500, score=0.466, total=   2.3s\n",
      "[CV] learning_rate=0.003, n_estimators=1000 ..........................\n",
      "[CV]  learning_rate=0.003, n_estimators=1000, score=0.889, total=   4.7s\n",
      "[CV] learning_rate=0.003, n_estimators=1000 ..........................\n",
      "[CV]  learning_rate=0.003, n_estimators=1000, score=0.777, total=   4.5s\n",
      "[CV] learning_rate=0.003, n_estimators=1000 ..........................\n",
      "[CV]  learning_rate=0.003, n_estimators=1000, score=0.859, total=   4.5s\n",
      "[CV] learning_rate=0.003, n_estimators=1000 ..........................\n",
      "[CV]  learning_rate=0.003, n_estimators=1000, score=0.825, total=   4.7s\n",
      "[CV] learning_rate=0.003, n_estimators=1000 ..........................\n",
      "[CV]  learning_rate=0.003, n_estimators=1000, score=0.878, total=   4.5s\n",
      "[CV] learning_rate=0.001, n_estimators=50 ............................\n",
      "[CV]  learning_rate=0.001, n_estimators=50, score=-4.843, total=   0.3s\n",
      "[CV] learning_rate=0.001, n_estimators=50 ............................\n",
      "[CV]  learning_rate=0.001, n_estimators=50, score=-4.635, total=   0.2s\n",
      "[CV] learning_rate=0.001, n_estimators=50 ............................\n",
      "[CV]  learning_rate=0.001, n_estimators=50, score=-4.621, total=   0.2s\n",
      "[CV] learning_rate=0.001, n_estimators=50 ............................\n",
      "[CV]  learning_rate=0.001, n_estimators=50, score=-4.189, total=   0.2s\n",
      "[CV] learning_rate=0.001, n_estimators=50 ............................\n",
      "[CV]  learning_rate=0.001, n_estimators=50, score=-6.017, total=   0.2s\n",
      "[CV] learning_rate=0.001, n_estimators=100 ...........................\n",
      "[CV]  learning_rate=0.001, n_estimators=100, score=-4.308, total=   0.5s\n",
      "[CV] learning_rate=0.001, n_estimators=100 ...........................\n",
      "[CV]  learning_rate=0.001, n_estimators=100, score=-4.123, total=   0.7s\n",
      "[CV] learning_rate=0.001, n_estimators=100 ...........................\n",
      "[CV]  learning_rate=0.001, n_estimators=100, score=-4.131, total=   0.7s\n",
      "[CV] learning_rate=0.001, n_estimators=100 ...........................\n",
      "[CV]  learning_rate=0.001, n_estimators=100, score=-3.726, total=   0.5s\n",
      "[CV] learning_rate=0.001, n_estimators=100 ...........................\n",
      "[CV]  learning_rate=0.001, n_estimators=100, score=-5.369, total=   0.5s\n",
      "[CV] learning_rate=0.001, n_estimators=200 ...........................\n",
      "[CV]  learning_rate=0.001, n_estimators=200, score=-3.381, total=   0.9s\n",
      "[CV] learning_rate=0.001, n_estimators=200 ...........................\n",
      "[CV]  learning_rate=0.001, n_estimators=200, score=-3.240, total=   0.9s\n",
      "[CV] learning_rate=0.001, n_estimators=200 ...........................\n",
      "[CV]  learning_rate=0.001, n_estimators=200, score=-3.289, total=   0.9s\n",
      "[CV] learning_rate=0.001, n_estimators=200 ...........................\n",
      "[CV]  learning_rate=0.001, n_estimators=200, score=-2.926, total=   1.4s\n",
      "[CV] learning_rate=0.001, n_estimators=200 ...........................\n",
      "[CV]  learning_rate=0.001, n_estimators=200, score=-4.270, total=   1.0s\n",
      "[CV] learning_rate=0.001, n_estimators=500 ...........................\n",
      "[CV]  learning_rate=0.001, n_estimators=500, score=-1.489, total=   2.5s\n",
      "[CV] learning_rate=0.001, n_estimators=500 ...........................\n",
      "[CV]  learning_rate=0.001, n_estimators=500, score=-1.424, total=   3.0s\n",
      "[CV] learning_rate=0.001, n_estimators=500 ...........................\n",
      "[CV]  learning_rate=0.001, n_estimators=500, score=-1.531, total=   2.5s\n",
      "[CV] learning_rate=0.001, n_estimators=500 ...........................\n",
      "[CV]  learning_rate=0.001, n_estimators=500, score=-1.294, total=   2.3s\n",
      "[CV] learning_rate=0.001, n_estimators=500 ...........................\n",
      "[CV]  learning_rate=0.001, n_estimators=500, score=-1.991, total=   2.3s\n",
      "[CV] learning_rate=0.001, n_estimators=1000 ..........................\n",
      "[CV]  learning_rate=0.001, n_estimators=1000, score=-0.020, total=   4.7s\n",
      "[CV] learning_rate=0.001, n_estimators=1000 ..........................\n",
      "[CV]  learning_rate=0.001, n_estimators=1000, score=-0.015, total=   6.9s\n",
      "[CV] learning_rate=0.001, n_estimators=1000 ..........................\n",
      "[CV]  learning_rate=0.001, n_estimators=1000, score=-0.104, total=  11.9s\n",
      "[CV] learning_rate=0.001, n_estimators=1000 ..........................\n",
      "[CV]  learning_rate=0.001, n_estimators=1000, score=-0.010, total=   7.0s\n",
      "[CV] learning_rate=0.001, n_estimators=1000 ..........................\n",
      "[CV]  learning_rate=0.001, n_estimators=1000, score=-0.213, total=   4.5s\n"
     ]
    },
    {
     "name": "stderr",
     "output_type": "stream",
     "text": [
      "[Parallel(n_jobs=1)]: Done 150 out of 150 | elapsed:  4.6min finished\n"
     ]
    },
    {
     "name": "stdout",
     "output_type": "stream",
     "text": [
      "Mean Absolute Error with default XGB : 17662.736729452055\n",
      "MAE with GridSearchCV improved XGB :  16526.461700021406\n"
     ]
    }
   ],
   "source": [
    "from xgboost import XGBRegressor\n",
    "\n",
    "# Define the model\n",
    "xgb = XGBRegressor()\n",
    "\n",
    "param_grid = {'n_estimators' : [50, 100, 200, 500, 1000],\n",
    "              'learning_rate' : [0.3, 0.1, 0.033, 0.011, 0.003, 0.001]\n",
    "             }\n",
    "\n",
    "better_xgb = GridSearchCV(xgb, param_grid, cv = 5, verbose = 5)\n",
    "\n",
    "# Pipeline the model with preprocessing\n",
    "improved_xgb = Pipeline(steps = [('preprocessor', preprocessor),\n",
    "                          ('model', better_xgb)])\n",
    "\n",
    "# fit the model\n",
    "improved_xgb.fit(X_train, y_train)\n",
    "\n",
    "pred_imp_xgb = improved_xgb.predict(X_valid)\n",
    "mae_imp_xgb = mean_absolute_error(pred_imp_xgb, y_valid)\n",
    "\n",
    "print(\"Mean Absolute Error with default XGB : 17662.736729452055\")\n",
    "print(\"MAE with GridSearchCV improved XGB : \", mae_imp_xgb)"
   ]
  },
  {
   "cell_type": "markdown",
   "execution_count": null,
   "metadata": {
    "papermill": {
     "duration": 0.01725,
     "end_time": "2020-08-25T17:56:07.476898",
     "exception": false,
     "start_time": "2020-08-25T17:56:07.459648",
     "status": "completed"
    },
    "tags": []
   },
   "source": [
    "# Making Predictions\n",
    "We output our predictions to a CSV file for submission"
   ]
  },
  {
   "cell_type": "code",
   "execution_count": 4,
   "metadata": {
    "execution": {
     "iopub.execute_input": "2020-08-25T17:56:07.531705Z",
     "iopub.status.busy": "2020-08-25T17:56:07.530812Z",
     "iopub.status.idle": "2020-08-25T17:56:07.693134Z",
     "shell.execute_reply": "2020-08-25T17:56:07.694646Z"
    },
    "papermill": {
     "duration": 0.200241,
     "end_time": "2020-08-25T17:56:07.694865",
     "exception": false,
     "start_time": "2020-08-25T17:56:07.494624",
     "status": "completed"
    },
    "tags": []
   },
   "outputs": [],
   "source": [
    "imp_xgb_preds = improved_xgb.predict(X_test)\n",
    "# Save test predictions to file\n",
    "output = pd.DataFrame({'Id': X_test.index,\n",
    "                       'SalePrice': imp_xgb_preds})\n",
    "output.to_csv('submission.csv', index=False)"
   ]
  }
 ],
 "metadata": {
  "kernelspec": {
   "display_name": "Python 3",
   "language": "python",
   "name": "python3"
  },
  "language_info": {
   "codemirror_mode": {
    "name": "ipython",
    "version": 3
   },
   "file_extension": ".py",
   "mimetype": "text/x-python",
   "name": "python",
   "nbconvert_exporter": "python",
   "pygments_lexer": "ipython3",
   "version": "3.7.6"
  },
  "papermill": {
   "duration": 288.629894,
   "end_time": "2020-08-25T17:56:07.828526",
   "environment_variables": {},
   "exception": null,
   "input_path": "__notebook__.ipynb",
   "output_path": "__notebook__.ipynb",
   "parameters": {},
   "start_time": "2020-08-25T17:51:19.198632",
   "version": "2.1.0"
  }
 },
 "nbformat": 4,
 "nbformat_minor": 4
}
